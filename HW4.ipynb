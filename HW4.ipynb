{
 "cells": [
  {
   "cell_type": "code",
   "execution_count": 5,
   "source": [
    "import pandas as pd\n",
    "import numpy as np\n",
    "\n",
    "from sklearn.model_selection import train_test_split, KFold\n",
    "from sklearn.metrics import roc_auc_score\n",
    "from sklearn.feature_extraction import DictVectorizer\n",
    "from sklearn.linear_model import LogisticRegression\n",
    "\n",
    "import matplotlib.pyplot as plt\n",
    "import seaborn as sns\n",
    "\n",
    "%matplotlib inline"
   ],
   "outputs": [],
   "metadata": {}
  },
  {
   "cell_type": "code",
   "execution_count": 6,
   "source": [
    "!wget https://raw.githubusercontent.com/alexeygrigorev/mlbookcamp-code/master/chapter-06-trees/CreditScoring.csv"
   ],
   "outputs": [
    {
     "output_type": "stream",
     "name": "stdout",
     "text": [
      "--2021-10-02 23:13:12--  https://raw.githubusercontent.com/alexeygrigorev/mlbookcamp-code/master/chapter-06-trees/CreditScoring.csv\n",
      "Resolving raw.githubusercontent.com (raw.githubusercontent.com)... 185.199.111.133, 185.199.109.133, 185.199.110.133, ...\n",
      "Connecting to raw.githubusercontent.com (raw.githubusercontent.com)|185.199.111.133|:443... connected.\n",
      "HTTP request sent, awaiting response... 200 OK\n",
      "Length: 182489 (178K) [text/plain]\n",
      "Saving to: ‘CreditScoring.csv.2’\n",
      "\n",
      "CreditScoring.csv.2 100%[===================>] 178,21K  1,09MB/s    in 0,2s    \n",
      "\n",
      "2021-10-02 23:13:13 (1,09 MB/s) - ‘CreditScoring.csv.2’ saved [182489/182489]\n",
      "\n"
     ]
    }
   ],
   "metadata": {}
  },
  {
   "cell_type": "code",
   "execution_count": 7,
   "source": [
    "df = pd.read_csv('CreditScoring.csv')\n",
    "df.columns = df.columns.str.lower()"
   ],
   "outputs": [],
   "metadata": {}
  },
  {
   "cell_type": "code",
   "execution_count": 8,
   "source": [
    "status_values = {\n",
    "    1: 'ok',\n",
    "    2: 'default',\n",
    "    0: 'unk'\n",
    "}\n",
    "\n",
    "df.status = df.status.map(status_values)\n",
    "\n",
    "\n",
    "home_values = {\n",
    "    1: 'rent',\n",
    "    2: 'owner',\n",
    "    3: 'private',\n",
    "    4: 'ignore',\n",
    "    5: 'parents',\n",
    "    6: 'other',\n",
    "    0: 'unk'\n",
    "}\n",
    "\n",
    "df.home = df.home.map(home_values)\n",
    "\n",
    "marital_values = {\n",
    "    1: 'single',\n",
    "    2: 'married',\n",
    "    3: 'widow',\n",
    "    4: 'separated',\n",
    "    5: 'divorced',\n",
    "    0: 'unk'\n",
    "}\n",
    "\n",
    "df.marital = df.marital.map(marital_values)\n",
    "\n",
    "records_values = {\n",
    "    1: 'no',\n",
    "    2: 'yes',\n",
    "    0: 'unk'\n",
    "}\n",
    "\n",
    "df.records = df.records.map(records_values)\n",
    "\n",
    "job_values = {\n",
    "    1: 'fixed',\n",
    "    2: 'partime',\n",
    "    3: 'freelance',\n",
    "    4: 'others',\n",
    "    0: 'unk'\n",
    "}\n",
    "\n",
    "df.job = df.job.map(job_values)"
   ],
   "outputs": [],
   "metadata": {}
  },
  {
   "cell_type": "code",
   "execution_count": 9,
   "source": [
    "for c in ['income', 'assets', 'debt']:\n",
    "    df[c] = df[c].replace(to_replace=99999999, value=0)"
   ],
   "outputs": [],
   "metadata": {}
  },
  {
   "cell_type": "code",
   "execution_count": 10,
   "source": [
    "df = df[df.status != 'unk'].reset_index(drop=True)"
   ],
   "outputs": [],
   "metadata": {}
  },
  {
   "cell_type": "code",
   "execution_count": 11,
   "source": [
    "df['default'] = (df.status == 'default').astype(int)\n",
    "del df['status']"
   ],
   "outputs": [],
   "metadata": {}
  },
  {
   "cell_type": "code",
   "execution_count": 12,
   "source": [
    "from sklearn.model_selection import train_test_split\n",
    "\n",
    "df_full_train, df_test = train_test_split(df, test_size=0.2, random_state=1)\n",
    "df_train, df_val = train_test_split(df_full_train, test_size=0.25, random_state=1)\n",
    "\n",
    "df_train = df_train.reset_index(drop=True)\n",
    "df_val = df_val.reset_index(drop=True)\n",
    "df_test = df_test.reset_index(drop=True)\n",
    "\n",
    "y_train = df_train.default.values\n",
    "y_val = df_val.default.values\n",
    "y_test = df_test.default.values\n",
    "\n",
    "del df_train['default']\n",
    "del df_val['default']\n",
    "del df_test['default']"
   ],
   "outputs": [],
   "metadata": {}
  },
  {
   "cell_type": "code",
   "execution_count": 13,
   "source": [
    "df.head()"
   ],
   "outputs": [
    {
     "output_type": "execute_result",
     "data": {
      "text/html": [
       "<div>\n",
       "<style scoped>\n",
       "    .dataframe tbody tr th:only-of-type {\n",
       "        vertical-align: middle;\n",
       "    }\n",
       "\n",
       "    .dataframe tbody tr th {\n",
       "        vertical-align: top;\n",
       "    }\n",
       "\n",
       "    .dataframe thead th {\n",
       "        text-align: right;\n",
       "    }\n",
       "</style>\n",
       "<table border=\"1\" class=\"dataframe\">\n",
       "  <thead>\n",
       "    <tr style=\"text-align: right;\">\n",
       "      <th></th>\n",
       "      <th>seniority</th>\n",
       "      <th>home</th>\n",
       "      <th>time</th>\n",
       "      <th>age</th>\n",
       "      <th>marital</th>\n",
       "      <th>records</th>\n",
       "      <th>job</th>\n",
       "      <th>expenses</th>\n",
       "      <th>income</th>\n",
       "      <th>assets</th>\n",
       "      <th>debt</th>\n",
       "      <th>amount</th>\n",
       "      <th>price</th>\n",
       "      <th>default</th>\n",
       "    </tr>\n",
       "  </thead>\n",
       "  <tbody>\n",
       "    <tr>\n",
       "      <th>0</th>\n",
       "      <td>9</td>\n",
       "      <td>rent</td>\n",
       "      <td>60</td>\n",
       "      <td>30</td>\n",
       "      <td>married</td>\n",
       "      <td>no</td>\n",
       "      <td>freelance</td>\n",
       "      <td>73</td>\n",
       "      <td>129</td>\n",
       "      <td>0</td>\n",
       "      <td>0</td>\n",
       "      <td>800</td>\n",
       "      <td>846</td>\n",
       "      <td>0</td>\n",
       "    </tr>\n",
       "    <tr>\n",
       "      <th>1</th>\n",
       "      <td>17</td>\n",
       "      <td>rent</td>\n",
       "      <td>60</td>\n",
       "      <td>58</td>\n",
       "      <td>widow</td>\n",
       "      <td>no</td>\n",
       "      <td>fixed</td>\n",
       "      <td>48</td>\n",
       "      <td>131</td>\n",
       "      <td>0</td>\n",
       "      <td>0</td>\n",
       "      <td>1000</td>\n",
       "      <td>1658</td>\n",
       "      <td>0</td>\n",
       "    </tr>\n",
       "    <tr>\n",
       "      <th>2</th>\n",
       "      <td>10</td>\n",
       "      <td>owner</td>\n",
       "      <td>36</td>\n",
       "      <td>46</td>\n",
       "      <td>married</td>\n",
       "      <td>yes</td>\n",
       "      <td>freelance</td>\n",
       "      <td>90</td>\n",
       "      <td>200</td>\n",
       "      <td>3000</td>\n",
       "      <td>0</td>\n",
       "      <td>2000</td>\n",
       "      <td>2985</td>\n",
       "      <td>1</td>\n",
       "    </tr>\n",
       "    <tr>\n",
       "      <th>3</th>\n",
       "      <td>0</td>\n",
       "      <td>rent</td>\n",
       "      <td>60</td>\n",
       "      <td>24</td>\n",
       "      <td>single</td>\n",
       "      <td>no</td>\n",
       "      <td>fixed</td>\n",
       "      <td>63</td>\n",
       "      <td>182</td>\n",
       "      <td>2500</td>\n",
       "      <td>0</td>\n",
       "      <td>900</td>\n",
       "      <td>1325</td>\n",
       "      <td>0</td>\n",
       "    </tr>\n",
       "    <tr>\n",
       "      <th>4</th>\n",
       "      <td>0</td>\n",
       "      <td>rent</td>\n",
       "      <td>36</td>\n",
       "      <td>26</td>\n",
       "      <td>single</td>\n",
       "      <td>no</td>\n",
       "      <td>fixed</td>\n",
       "      <td>46</td>\n",
       "      <td>107</td>\n",
       "      <td>0</td>\n",
       "      <td>0</td>\n",
       "      <td>310</td>\n",
       "      <td>910</td>\n",
       "      <td>0</td>\n",
       "    </tr>\n",
       "  </tbody>\n",
       "</table>\n",
       "</div>"
      ],
      "text/plain": [
       "   seniority   home  time  age  marital records        job  expenses  income  \\\n",
       "0          9   rent    60   30  married      no  freelance        73     129   \n",
       "1         17   rent    60   58    widow      no      fixed        48     131   \n",
       "2         10  owner    36   46  married     yes  freelance        90     200   \n",
       "3          0   rent    60   24   single      no      fixed        63     182   \n",
       "4          0   rent    36   26   single      no      fixed        46     107   \n",
       "\n",
       "   assets  debt  amount  price  default  \n",
       "0       0     0     800    846        0  \n",
       "1       0     0    1000   1658        0  \n",
       "2    3000     0    2000   2985        1  \n",
       "3    2500     0     900   1325        0  \n",
       "4       0     0     310    910        0  "
      ]
     },
     "metadata": {},
     "execution_count": 13
    }
   ],
   "metadata": {}
  },
  {
   "cell_type": "code",
   "execution_count": 14,
   "source": [
    "df.dtypes"
   ],
   "outputs": [
    {
     "output_type": "execute_result",
     "data": {
      "text/plain": [
       "seniority     int64\n",
       "home         object\n",
       "time          int64\n",
       "age           int64\n",
       "marital      object\n",
       "records      object\n",
       "job          object\n",
       "expenses      int64\n",
       "income        int64\n",
       "assets        int64\n",
       "debt          int64\n",
       "amount        int64\n",
       "price         int64\n",
       "default       int64\n",
       "dtype: object"
      ]
     },
     "metadata": {},
     "execution_count": 14
    }
   ],
   "metadata": {}
  },
  {
   "cell_type": "code",
   "execution_count": 15,
   "source": [
    "categorical = list(df.select_dtypes ('object'))\n",
    "categorical "
   ],
   "outputs": [
    {
     "output_type": "execute_result",
     "data": {
      "text/plain": [
       "['home', 'marital', 'records', 'job']"
      ]
     },
     "metadata": {},
     "execution_count": 15
    }
   ],
   "metadata": {}
  },
  {
   "cell_type": "code",
   "execution_count": 16,
   "source": [
    "categorical = ['home', 'marital', 'records', 'job']"
   ],
   "outputs": [],
   "metadata": {}
  },
  {
   "cell_type": "code",
   "execution_count": 17,
   "source": [
    "numerical = list(df.select_dtypes('int64'))\n",
    "numerical\n"
   ],
   "outputs": [
    {
     "output_type": "execute_result",
     "data": {
      "text/plain": [
       "['seniority',\n",
       " 'time',\n",
       " 'age',\n",
       " 'expenses',\n",
       " 'income',\n",
       " 'assets',\n",
       " 'debt',\n",
       " 'amount',\n",
       " 'price',\n",
       " 'default']"
      ]
     },
     "metadata": {},
     "execution_count": 17
    }
   ],
   "metadata": {}
  },
  {
   "cell_type": "code",
   "execution_count": 18,
   "source": [
    "numerical = ['seniority',\n",
    " 'time',\n",
    " 'age',\n",
    " 'expenses',\n",
    " 'income',\n",
    " 'assets',\n",
    " 'debt',\n",
    " 'amount',\n",
    " 'price']"
   ],
   "outputs": [],
   "metadata": {}
  },
  {
   "cell_type": "markdown",
   "source": [
    "Question 1\n",
    "\n",
    "ROC AUC could also be used to evaluate feature importance of numerical variables.\n",
    "\n",
    "Let's do that\n",
    "\n",
    "For each numerical variable, use it as score and compute AUC with the \"default\" variable\n",
    "Use the training dataset for that\n",
    "If your AUC is < 0.5, invert this variable by putting \"-\" in front\n",
    "\n",
    "(e.g. -df_train['expenses'])\n",
    "\n",
    "AUC can go below 0.5 if the variable is negatively correlated with the target varialble. You can change the direction of the correlation by negating this variable - then negative correlation becomes positive.\n",
    "\n",
    "Which numerical variable (among the following 4) has the highest AUC?\n",
    "\n",
    "seniority\n",
    "time\n",
    "income\n",
    "debt"
   ],
   "metadata": {}
  },
  {
   "cell_type": "code",
   "execution_count": 19,
   "source": [
    "from sklearn.metrics import roc_auc_score\n",
    "from sklearn.metrics import roc_curve\n",
    "from sklearn.metrics import auc "
   ],
   "outputs": [],
   "metadata": {}
  },
  {
   "cell_type": "code",
   "execution_count": 20,
   "source": [
    "for variable in numerical:\n",
    "    fpr, tpr, thresholds = roc_curve(y_train, df_train[variable].values)\n",
    "    auc_score = auc(fpr, tpr)\n",
    "    \n",
    "    if auc_score < 0.5:\n",
    "        fpr, tpr, thresholds = roc_curve(y_train, -df_train[variable].values)\n",
    "        auc_score = auc(fpr, tpr)\n",
    "    \n",
    "    print(f'{variable} variable has a auc score of: {auc_score}')"
   ],
   "outputs": [
    {
     "output_type": "stream",
     "name": "stdout",
     "text": [
      "seniority variable has a auc score of: 0.7093778624491943\n",
      "time variable has a auc score of: 0.5608662489595051\n",
      "age variable has a auc score of: 0.5732933272499939\n",
      "expenses variable has a auc score of: 0.5009184217217011\n",
      "income variable has a auc score of: 0.682006666132633\n",
      "assets variable has a auc score of: 0.6486042567122802\n",
      "debt variable has a auc score of: 0.5047829675783548\n",
      "amount variable has a auc score of: 0.5910773431595518\n",
      "price variable has a auc score of: 0.5043329862114843\n"
     ]
    }
   ],
   "metadata": {}
  },
  {
   "cell_type": "markdown",
   "source": [
    "##Training the model\n",
    "\n",
    "From now on, use these columns only:\n",
    "\n",
    "['seniority', 'income', 'assets', 'records', 'job', 'home']\n",
    "Apply one-hot-encoding using DictVectorizer and train the logistic regression with these parameters:\n",
    "\n",
    "LogisticRegression(solver='liblinear', C=1.0, max_iter=1000)"
   ],
   "metadata": {}
  },
  {
   "cell_type": "markdown",
   "source": [
    "Question 2\n",
    "\n",
    "What's the AUC of this model on the validation dataset? (round to 3 digits)"
   ],
   "metadata": {}
  },
  {
   "cell_type": "code",
   "execution_count": 21,
   "source": [
    "features = ['seniority', 'income', 'assets', 'records', 'job', 'home']\n",
    "\n",
    "dv = DictVectorizer(sparse=False)\n",
    "train_dict = df_train[features].to_dict(orient='records')\n",
    "X_train = dv.fit_transform(train_dict)\n",
    "\n",
    "val_dict = df_val[features].to_dict(orient='records')\n",
    "X_val = dv.fit_transform(val_dict)"
   ],
   "outputs": [],
   "metadata": {}
  },
  {
   "cell_type": "code",
   "execution_count": 22,
   "source": [
    "model = LogisticRegression(solver='liblinear', C=1.0, max_iter=1000)\n",
    "model.fit(X_train, y_train)"
   ],
   "outputs": [
    {
     "output_type": "execute_result",
     "data": {
      "text/plain": [
       "LogisticRegression(max_iter=1000, solver='liblinear')"
      ]
     },
     "metadata": {},
     "execution_count": 22
    }
   ],
   "metadata": {}
  },
  {
   "cell_type": "code",
   "execution_count": 23,
   "source": [
    "y_pred = model.predict_proba(X_val)[:,1]\n",
    "y_pred"
   ],
   "outputs": [
    {
     "output_type": "execute_result",
     "data": {
      "text/plain": [
       "array([1.96864517e-01, 1.17566830e-01, 2.69816999e-01, 1.23272297e-01,\n",
       "       4.14163558e-02, 6.03395041e-01, 8.47303706e-01, 2.30826676e-01,\n",
       "       9.20153615e-01, 3.40257142e-01, 3.19613906e-01, 6.28633454e-02,\n",
       "       4.05811355e-01, 4.06879435e-01, 1.01941492e-01, 7.06995810e-02,\n",
       "       3.02017778e-02, 2.74911652e-01, 7.92665974e-01, 5.23975117e-02,\n",
       "       4.90721608e-01, 1.33304655e-01, 7.04819954e-02, 1.78498677e-02,\n",
       "       4.18153981e-01, 5.33852022e-01, 5.31608722e-01, 1.02859300e-01,\n",
       "       4.30786409e-01, 2.42859212e-02, 2.25436210e-01, 4.93559876e-02,\n",
       "       3.15443702e-01, 1.23846910e-01, 6.97466123e-01, 8.41046084e-02,\n",
       "       5.28890028e-02, 6.76631141e-01, 1.11294087e-01, 1.21434239e-01,\n",
       "       3.95982795e-01, 1.00225341e-01, 1.12215164e-01, 1.76622050e-01,\n",
       "       1.22913696e-01, 5.37205476e-01, 7.96489211e-01, 6.94633964e-01,\n",
       "       6.10214554e-02, 2.27408800e-02, 3.36416888e-01, 1.06107907e-01,\n",
       "       8.43867781e-02, 5.33933185e-01, 1.53052162e-01, 5.56195627e-01,\n",
       "       7.71533874e-01, 4.06782175e-01, 2.82626970e-01, 3.35453964e-02,\n",
       "       1.19185978e-01, 6.07027847e-01, 1.44634737e-01, 6.16595863e-01,\n",
       "       2.65233321e-01, 6.24501901e-02, 3.23245374e-01, 3.82504220e-01,\n",
       "       2.24726420e-01, 7.50814371e-02, 1.46563130e-02, 9.09851038e-01,\n",
       "       3.39449779e-01, 3.95020596e-01, 2.54643940e-01, 3.75513089e-01,\n",
       "       1.86519792e-01, 9.29956891e-02, 1.11443931e-01, 1.95105510e-01,\n",
       "       2.94807482e-01, 2.48640028e-02, 1.98344333e-01, 5.47524458e-01,\n",
       "       1.23972580e-01, 2.31618721e-01, 3.57588559e-01, 2.05072348e-01,\n",
       "       4.87744072e-01, 6.98884130e-02, 6.02518644e-01, 3.50124315e-01,\n",
       "       3.21465681e-01, 1.28092455e-01, 1.53229124e-01, 3.90710057e-01,\n",
       "       5.96974058e-01, 2.01020468e-01, 3.80636208e-02, 6.03395041e-01,\n",
       "       8.83214833e-01, 7.95726675e-01, 2.32830469e-01, 3.90849832e-02,\n",
       "       5.53099764e-01, 1.70656211e-01, 7.79766533e-01, 3.30002216e-01,\n",
       "       5.63417703e-01, 2.47774377e-01, 4.36807915e-02, 9.25814675e-02,\n",
       "       1.99887899e-01, 2.07164036e-01, 1.37946141e-01, 4.58399996e-01,\n",
       "       2.97498639e-01, 2.46479296e-01, 6.35666191e-01, 1.41812489e-01,\n",
       "       7.70619663e-02, 6.50003661e-02, 1.41249753e-01, 4.62310027e-01,\n",
       "       2.47045746e-01, 1.67993063e-02, 2.31761166e-01, 1.53621465e-01,\n",
       "       1.67378949e-01, 5.13693150e-01, 5.89294323e-02, 6.19870213e-01,\n",
       "       1.09454700e-01, 1.98243718e-02, 4.38831579e-01, 1.17230295e-01,\n",
       "       1.87023698e-01, 2.00259218e-01, 3.97199671e-02, 1.44124284e-01,\n",
       "       8.48197445e-02, 3.51311679e-01, 3.65319041e-01, 1.26214937e-01,\n",
       "       4.22882318e-02, 2.84696189e-01, 7.11141436e-02, 2.93325418e-01,\n",
       "       2.95533966e-01, 1.01685205e-01, 4.88271638e-01, 9.07112632e-02,\n",
       "       1.74429475e-01, 7.98995120e-02, 2.41641557e-01, 1.03685222e-01,\n",
       "       3.90728853e-01, 6.82151987e-01, 1.45894233e-01, 1.08650603e-01,\n",
       "       1.51997033e-01, 3.34693971e-01, 4.27240757e-01, 2.45781663e-01,\n",
       "       7.98165660e-02, 5.73062830e-01, 4.76088710e-01, 1.03202791e-01,\n",
       "       2.55594782e-01, 2.13271414e-01, 6.07203553e-01, 4.45229220e-01,\n",
       "       4.06178983e-01, 6.32267866e-01, 1.15916187e-01, 6.41630719e-01,\n",
       "       2.03516664e-01, 2.01214529e-01, 6.10311135e-01, 1.96385624e-01,\n",
       "       3.84203541e-03, 1.34168927e-01, 2.83032149e-02, 1.70295886e-01,\n",
       "       2.48007847e-01, 1.75830644e-01, 8.17030973e-02, 4.69871491e-02,\n",
       "       6.74270537e-02, 7.12981511e-02, 6.96563623e-02, 2.13085989e-01,\n",
       "       2.31812249e-01, 4.93886378e-01, 1.18945261e-01, 4.12700680e-01,\n",
       "       5.12251309e-01, 1.57875586e-01, 7.43791684e-02, 2.26371633e-01,\n",
       "       6.36902968e-01, 6.68094259e-02, 1.22524572e-01, 3.84625749e-01,\n",
       "       2.90311481e-02, 5.20940301e-01, 2.43169641e-01, 2.27946858e-01,\n",
       "       3.28774568e-01, 1.77910350e-02, 8.29119650e-02, 2.07851420e-01,\n",
       "       1.41924778e-01, 8.26433850e-01, 3.46052126e-01, 4.04506987e-01,\n",
       "       3.20661354e-01, 4.11665111e-01, 4.79947059e-01, 1.62654399e-01,\n",
       "       9.08816661e-02, 1.91316128e-01, 9.20500468e-01, 6.51928774e-02,\n",
       "       3.76855154e-02, 3.69557931e-01, 3.69485340e-01, 7.02901976e-01,\n",
       "       6.10321142e-01, 6.41163695e-02, 8.76557998e-02, 2.06498221e-01,\n",
       "       9.25754078e-01, 7.62271752e-01, 3.44199136e-02, 1.07872456e-01,\n",
       "       5.77009704e-01, 6.93981305e-01, 7.49852912e-01, 8.00775731e-02,\n",
       "       4.11884687e-01, 2.26842122e-01, 2.55207573e-01, 6.17721044e-01,\n",
       "       1.94160292e-01, 5.60167686e-02, 4.51036545e-01, 5.34682789e-02,\n",
       "       6.22760187e-01, 3.22716548e-01, 4.45359471e-02, 3.76375900e-01,\n",
       "       3.90281669e-01, 9.98876611e-02, 1.81386588e-01, 4.50883626e-02,\n",
       "       7.48517508e-01, 1.26341732e-01, 2.34304210e-01, 3.41641811e-01,\n",
       "       3.13789402e-01, 1.19747060e-03, 2.16315123e-01, 3.54242507e-01,\n",
       "       4.23496696e-02, 5.40748040e-01, 5.69021440e-01, 5.32190461e-02,\n",
       "       2.78845224e-01, 4.93311103e-02, 3.84127437e-01, 1.74698343e-01,\n",
       "       1.01760889e-01, 6.45185276e-01, 2.68862305e-02, 8.96429202e-01,\n",
       "       5.22800874e-02, 2.07118742e-01, 7.38168488e-01, 1.50114127e-01,\n",
       "       1.55018403e-01, 8.25562836e-02, 6.34421267e-02, 3.86751674e-01,\n",
       "       1.32739815e-01, 5.19004968e-01, 1.48194786e-01, 3.45481814e-02,\n",
       "       4.64595369e-01, 1.16182967e-01, 1.57637022e-01, 4.54874751e-01,\n",
       "       3.75300586e-01, 2.43757678e-01, 2.96478570e-01, 2.49113744e-01,\n",
       "       1.78218888e-01, 3.52357667e-01, 2.66912616e-02, 1.47173156e-01,\n",
       "       1.31939279e-01, 8.38405039e-01, 1.67480252e-01, 4.71305653e-01,\n",
       "       1.94550793e-01, 6.99786494e-01, 1.30679081e-01, 7.63826265e-02,\n",
       "       2.03257904e-01, 1.75762129e-01, 5.43661387e-01, 6.81429272e-01,\n",
       "       2.89640837e-02, 7.14027574e-01, 8.75568092e-01, 6.83987864e-01,\n",
       "       3.89968757e-01, 8.85150851e-02, 6.99786494e-01, 3.44071674e-01,\n",
       "       2.71779536e-01, 6.49890185e-01, 3.44501653e-02, 9.04877324e-01,\n",
       "       1.33177082e-02, 3.92261065e-01, 2.90334890e-01, 6.32901377e-01,\n",
       "       3.74900972e-02, 2.85526199e-01, 3.63200467e-01, 8.65976078e-01,\n",
       "       7.42354921e-01, 6.53210113e-01, 2.89251120e-01, 9.85122237e-02,\n",
       "       1.63600035e-01, 2.71357853e-01, 6.54894273e-01, 6.53460129e-01,\n",
       "       3.76634526e-02, 5.40673307e-02, 3.53030916e-01, 2.31305833e-01,\n",
       "       1.96152790e-01, 6.25430931e-02, 2.03257904e-01, 2.01743363e-01,\n",
       "       3.95740903e-01, 1.10596501e-01, 9.13673628e-02, 2.18122986e-02,\n",
       "       3.99264922e-01, 3.35501930e-01, 8.18388210e-01, 1.85756853e-01,\n",
       "       7.65332269e-01, 1.19449882e-03, 4.04796822e-01, 3.15585834e-01,\n",
       "       3.33744305e-01, 6.63218891e-02, 3.63987306e-01, 3.88566864e-01,\n",
       "       5.23893617e-01, 1.77493470e-02, 2.38691179e-01, 1.54547908e-02,\n",
       "       1.01294835e-01, 7.89161514e-01, 4.31014377e-03, 3.73097255e-01,\n",
       "       3.07660695e-01, 6.37531466e-02, 1.12133347e-01, 3.44761226e-01,\n",
       "       2.14851153e-01, 5.05447844e-01, 1.45487729e-02, 9.00084943e-02,\n",
       "       3.39950781e-01, 6.36926339e-02, 7.52585769e-02, 5.27478250e-02,\n",
       "       3.37149792e-01, 6.93730008e-01, 1.40492147e-01, 6.98791781e-01,\n",
       "       9.84143871e-02, 1.19303570e-02, 8.24737522e-01, 3.55611450e-01,\n",
       "       2.92368125e-01, 1.56683575e-01, 1.13448968e-01, 1.14305087e-01,\n",
       "       1.62360557e-01, 6.92397567e-01, 2.26015352e-02, 1.14244425e-01,\n",
       "       4.81566312e-02, 2.36277317e-02, 1.44480537e-01, 5.97491818e-01,\n",
       "       4.41972794e-01, 1.23315843e-01, 2.34810959e-01, 2.78454222e-01,\n",
       "       8.03268661e-03, 7.49852912e-01, 5.03904453e-01, 2.03257904e-01,\n",
       "       7.75567706e-02, 2.50615478e-01, 3.54179546e-01, 6.07194742e-01,\n",
       "       2.05729755e-02, 2.43529976e-03, 2.07786461e-01, 5.13486234e-01,\n",
       "       4.17028284e-02, 4.58399996e-01, 4.30297970e-01, 2.95889038e-03,\n",
       "       3.22296278e-01, 3.76884745e-01, 1.85780336e-01, 2.37479770e-01,\n",
       "       2.88851991e-01, 2.33347628e-01, 2.61236309e-01, 2.23658879e-01,\n",
       "       1.29638613e-01, 3.71139493e-01, 6.99786494e-01, 7.74964659e-01,\n",
       "       5.44274064e-01, 5.47707820e-01, 3.86982516e-02, 5.01896075e-01,\n",
       "       1.12135172e-01, 1.50432475e-01, 2.59415651e-01, 1.00651949e-01,\n",
       "       1.10082411e-01, 6.17890958e-01, 2.69816999e-01, 2.03663649e-01,\n",
       "       1.52945898e-01, 4.20540803e-01, 5.66317573e-01, 5.95066038e-01,\n",
       "       7.99874012e-01, 2.30717626e-01, 1.53891923e-01, 3.96269729e-01,\n",
       "       5.30617286e-02, 1.17770100e-01, 4.97737783e-02, 1.46224089e-01,\n",
       "       4.84814277e-02, 2.92539515e-01, 4.81790569e-01, 4.30958562e-01,\n",
       "       3.67843813e-02, 1.54536207e-01, 8.45412044e-02, 2.61238443e-01,\n",
       "       2.64488749e-01, 1.47450875e-01, 1.84021178e-01, 1.48178150e-01,\n",
       "       1.09369695e-01, 8.45669236e-01, 8.21651389e-01, 3.76733770e-01,\n",
       "       5.35035487e-02, 5.66477852e-02, 3.71651382e-01, 1.78816074e-01,\n",
       "       3.40014510e-02, 4.07165133e-01, 3.61090837e-01, 3.89474348e-02,\n",
       "       8.19134668e-02, 1.03701160e-01, 1.57602318e-01, 2.74100661e-01,\n",
       "       3.71578111e-01, 5.83808688e-01, 7.19736495e-01, 1.48982656e-02,\n",
       "       9.33147671e-01, 1.64848681e-01, 1.85132173e-02, 1.00102892e-01,\n",
       "       1.66204486e-02, 1.79424599e-01, 2.81798507e-01, 5.11495244e-02,\n",
       "       5.30289722e-01, 1.17650878e-01, 6.32562014e-01, 6.25753028e-01,\n",
       "       8.31809418e-01, 1.97525089e-01, 2.62872945e-02, 7.65988609e-01,\n",
       "       5.74142398e-02, 2.95838212e-01, 6.45091641e-01, 1.29975572e-01,\n",
       "       5.50993745e-02, 4.84032499e-01, 1.34162066e-01, 1.56840048e-01,\n",
       "       3.60781753e-01, 6.27784242e-01, 1.91175914e-01, 1.67201445e-01,\n",
       "       6.99786494e-01, 1.16582822e-01, 7.04350607e-02, 3.83426288e-01,\n",
       "       6.41345615e-01, 1.66258710e-01, 6.84384803e-01, 2.92379618e-01,\n",
       "       3.60410567e-02, 2.66201576e-01, 1.46958817e-01, 4.38565539e-01,\n",
       "       1.63875541e-02, 8.57424964e-04, 1.15692470e-01, 4.09233184e-01,\n",
       "       4.86367250e-01, 8.36702048e-01, 7.43291096e-01, 8.19718006e-01,\n",
       "       2.51584087e-01, 3.41522773e-01, 2.08067086e-02, 6.57040659e-02,\n",
       "       1.01223470e-01, 1.43613069e-01, 1.12141137e-01, 7.60488012e-01,\n",
       "       1.67870726e-02, 8.20253638e-02, 3.54180265e-01, 1.43878126e-01,\n",
       "       1.52192161e-01, 1.56215613e-01, 2.11988436e-01, 2.39697803e-01,\n",
       "       1.11387654e-01, 7.27561405e-02, 1.42868242e-01, 5.60738229e-02,\n",
       "       2.04822629e-01, 3.11090073e-02, 6.94152098e-01, 3.92217084e-01,\n",
       "       9.14826992e-02, 6.96812130e-01, 2.36892131e-01, 4.73248590e-01,\n",
       "       8.43551359e-02, 5.78014585e-01, 2.06259878e-01, 2.77851851e-01,\n",
       "       2.65178306e-01, 1.81174008e-01, 1.47716875e-01, 1.21131541e-01,\n",
       "       1.36063663e-01, 1.65902854e-01, 2.68949889e-02, 1.57676696e-01,\n",
       "       1.81328967e-01, 3.38022377e-01, 8.07738552e-02, 1.36195521e-01,\n",
       "       1.21538216e-01, 5.00858854e-01, 2.16491085e-01, 1.23383483e-01,\n",
       "       6.89209897e-02, 6.55115634e-01, 2.71991398e-01, 3.83387052e-01,\n",
       "       7.33759894e-02, 8.19862002e-02, 2.16519948e-01, 1.27992321e-01,\n",
       "       1.43686416e-02, 1.08031980e-01, 1.10103882e-01, 5.63824343e-01,\n",
       "       5.40748040e-01, 3.92603436e-01, 3.73346880e-02, 3.94442786e-01,\n",
       "       1.57677845e-02, 2.80721264e-01, 3.31879654e-01, 2.57695016e-01,\n",
       "       6.88829697e-01, 2.81798507e-01, 4.68423287e-01, 2.00352912e-01,\n",
       "       5.68832650e-01, 9.00770947e-02, 2.78647033e-02, 3.79712277e-01,\n",
       "       1.61158898e-01, 1.00584435e-01, 1.45824932e-01, 9.37763145e-01,\n",
       "       1.62765541e-01, 1.25770957e-01, 2.63915475e-01, 4.39240244e-01,\n",
       "       3.04281747e-01, 2.84696189e-01, 4.09507185e-02, 1.39185349e-01,\n",
       "       3.04622202e-01, 5.30710920e-02, 5.37246739e-01, 3.11566145e-02,\n",
       "       3.98817452e-01, 1.80746015e-01, 1.61181572e-01, 4.47408281e-01,\n",
       "       2.63038695e-01, 6.83434692e-01, 2.67944485e-01, 5.67861014e-01,\n",
       "       6.59802085e-01, 5.03472303e-01, 3.27443470e-01, 3.42416509e-02,\n",
       "       1.22743647e-01, 5.25792139e-02, 6.23425423e-01, 3.84326492e-01,\n",
       "       4.13070210e-01, 4.05758087e-01, 3.29097048e-01, 9.45079053e-02,\n",
       "       1.75070280e-01, 7.82283071e-01, 6.99036746e-02, 2.11652983e-01,\n",
       "       5.54133977e-01, 3.05310381e-01, 2.22252508e-01, 3.23503211e-01,\n",
       "       1.32043652e-01, 4.28094938e-01, 1.11973911e-01, 1.29671207e-01,\n",
       "       5.59684823e-01, 6.90189646e-01, 2.91820008e-02, 1.28889445e-01,\n",
       "       5.13006888e-01, 8.89574445e-01, 4.03712176e-01, 2.65470707e-01,\n",
       "       2.09299885e-02, 4.11369432e-02, 3.42278593e-01, 2.54120722e-01,\n",
       "       9.65331466e-02, 5.35482110e-01, 8.39269735e-02, 7.24284219e-02,\n",
       "       2.13352149e-01, 3.25840229e-01, 7.17761664e-01, 1.44276213e-01,\n",
       "       1.21477521e-01, 9.53212025e-02, 9.38432630e-02, 4.63570723e-01,\n",
       "       1.23830359e-01, 1.32097719e-01, 1.82962801e-01, 2.79137803e-01,\n",
       "       5.96537056e-01, 3.07826750e-01, 4.70790827e-02, 2.33436461e-01,\n",
       "       7.45197140e-02, 1.78218888e-01, 2.72326236e-01, 4.23004693e-01,\n",
       "       1.09483030e-01, 2.53433999e-01, 2.17123110e-01, 4.86342741e-02,\n",
       "       3.91404218e-01, 5.53895810e-01, 2.63520122e-01, 3.10832839e-02,\n",
       "       6.20397513e-02, 5.48557900e-03, 6.36875455e-01, 5.53698663e-02,\n",
       "       3.03339902e-01, 5.73296777e-01, 4.29176299e-01, 8.29193130e-02,\n",
       "       1.94199275e-01, 1.45514890e-01, 3.65928410e-01, 3.09220800e-01,\n",
       "       5.40748040e-01, 1.27751950e-01, 3.18329639e-02, 5.32863670e-01,\n",
       "       5.66862688e-01, 1.72084728e-01, 4.63282799e-01, 1.97385312e-01,\n",
       "       3.02514165e-01, 1.02029294e-01, 3.59436583e-01, 2.23765145e-01,\n",
       "       7.00331351e-02, 5.00237069e-01, 1.67119990e-01, 3.15613409e-01,\n",
       "       1.34987620e-01, 4.49051661e-01, 5.78230274e-01, 9.94811038e-02,\n",
       "       2.50088694e-01, 5.03563941e-02, 7.25001784e-02, 3.15833698e-02,\n",
       "       6.46267406e-01, 2.12738221e-01, 2.31986901e-02, 2.91185113e-01,\n",
       "       8.24240249e-02, 3.86763748e-02, 1.57657170e-01, 8.72015919e-02,\n",
       "       3.16187550e-01, 6.21503327e-01, 1.69368018e-01, 2.28731751e-01,\n",
       "       2.07118742e-01, 4.80420433e-01, 1.56931384e-01, 6.14547392e-01,\n",
       "       2.84334139e-02, 1.03277550e-01, 5.36905530e-01, 8.18389637e-02,\n",
       "       1.96647584e-02, 2.80994921e-02, 1.67460944e-01, 1.11509118e-01,\n",
       "       2.24254569e-01, 1.88073913e-01, 2.28920826e-01, 6.54475373e-01,\n",
       "       8.54863670e-03, 1.48351589e-01, 2.18364258e-01, 3.89060774e-02,\n",
       "       2.41333301e-01, 8.62864881e-01, 3.17314529e-01, 2.73126692e-01,\n",
       "       3.41333596e-01, 3.23687223e-02, 6.30358982e-01, 1.97830375e-01,\n",
       "       6.38148264e-01, 1.10132948e-02, 1.32886868e-02, 1.86274504e-01,\n",
       "       2.75813751e-01, 3.91373513e-01, 6.32486777e-01, 7.99517897e-02,\n",
       "       5.51247116e-01, 3.69420994e-01, 2.24091528e-01, 3.02295260e-01,\n",
       "       5.25325899e-01, 3.98817452e-01, 6.39807108e-02, 1.22390146e-01,\n",
       "       3.34693971e-01, 4.18132162e-02, 1.63878457e-01, 5.54305930e-01,\n",
       "       2.90055217e-01, 5.34751371e-01, 9.11133688e-02, 5.67167042e-01,\n",
       "       1.42750570e-02, 2.66727995e-02, 1.98008846e-01, 8.38005484e-01,\n",
       "       7.39300329e-01, 4.35157920e-01, 1.05947859e-01, 1.55185748e-01,\n",
       "       5.62316898e-01, 3.38349099e-01, 2.33353604e-01, 4.50303192e-01,\n",
       "       4.21287173e-02, 6.61457235e-01, 2.36305710e-01, 5.18382171e-01,\n",
       "       3.06041585e-02, 1.47530423e-01, 2.82482178e-01, 1.26937922e-02,\n",
       "       8.03720346e-02, 3.19834914e-01, 2.69100747e-01, 4.53823001e-01,\n",
       "       7.07125150e-01, 4.10208057e-01, 1.12110792e-02, 6.88760938e-02,\n",
       "       2.47069788e-01, 4.38629279e-01, 8.93819427e-02, 6.57052623e-02,\n",
       "       3.80018400e-02, 4.60745878e-01, 3.89038341e-01, 1.44025359e-01,\n",
       "       4.04589409e-01, 5.01942310e-01, 3.17205641e-01, 3.38207740e-01,\n",
       "       3.44212140e-02, 3.87180600e-01, 7.16517752e-02, 3.45951215e-01,\n",
       "       3.73199299e-01, 6.04566515e-01, 1.94993895e-01, 9.94160877e-02,\n",
       "       5.89133649e-02, 7.60633064e-01, 2.41198436e-01, 4.20126250e-01,\n",
       "       1.21505927e-01, 1.51108524e-01, 6.00070337e-01, 8.39263175e-01,\n",
       "       6.80898244e-01, 1.73296125e-01, 3.76932252e-02, 9.07377784e-01,\n",
       "       1.29287928e-01, 1.14266667e-01, 2.96223622e-01, 3.88417578e-01,\n",
       "       2.46168356e-01, 1.19693151e-01, 3.27912593e-01, 1.85134349e-01,\n",
       "       9.54040748e-02, 1.11645990e-01, 1.86914928e-02, 4.77311172e-01,\n",
       "       7.19947279e-01, 8.36840748e-02, 1.45816813e-01, 4.83602319e-01,\n",
       "       2.80929758e-01, 1.67600677e-01, 1.96340136e-01, 5.40748040e-01,\n",
       "       5.06061007e-01, 4.41910374e-01, 5.11179353e-01])"
      ]
     },
     "metadata": {},
     "execution_count": 23
    }
   ],
   "metadata": {}
  },
  {
   "cell_type": "code",
   "execution_count": 24,
   "source": [
    "roc_auc_score(y_val, y_pred)\n",
    "# print('AUC of this model on the validation dataset is:', roc_auc_score)\n",
    "# print(f'AUC of this model on the validation dataset is: {roc_auc_score}')\n",
    "print(\"AUC of this model on the validation dataset : %s\" % round(roc_auc_score(y_val, y_pred), 3))"
   ],
   "outputs": [
    {
     "output_type": "stream",
     "name": "stdout",
     "text": [
      "AUC of this model on the validation dataset : 0.812\n"
     ]
    }
   ],
   "metadata": {}
  },
  {
   "cell_type": "markdown",
   "source": [
    "Question 3\n",
    "\n",
    "Now let's compute precision and recall for our model.\n",
    "\n",
    "Evaluate the model on all thresholds from 0.0 to 1.0 with step 0.01\n",
    "For each threshold, compute precision and recall\n",
    "Plot them\n",
    "At which threshold precision and recall curves intersect?"
   ],
   "metadata": {}
  },
  {
   "cell_type": "code",
   "execution_count": 25,
   "source": [
    "scores = []\n",
    "\n",
    "thresholds = np.linspace(0, 1, 101)\n",
    "\n",
    "for t in thresholds:\n",
    "    actual_positive = (y_val == 1)\n",
    "    actual_negative = (y_val == 0)\n",
    "    \n",
    "    predict_positive = (y_pred >= t)\n",
    "    predict_negative = (y_pred < t)\n",
    "    \n",
    "    tp = (predict_positive & actual_positive).sum()\n",
    "    tn = (actual_negative & predict_negative).sum()\n",
    "    \n",
    "    fp = (predict_positive & actual_negative).sum()\n",
    "    fn = (predict_negative & actual_positive).sum()\n",
    "    \n",
    "    precision = tp / (tp + fp)\n",
    "    recall = tp / (tp + fn)\n",
    "    \n",
    "    scores.append((t, tp, fp, fn, tn, precision, recall))"
   ],
   "outputs": [
    {
     "output_type": "stream",
     "name": "stderr",
     "text": [
      "/var/folders/j2/5gq4v31n7xj5qlln62tlhzxw0000gn/T/ipykernel_1082/3971591322.py:18: RuntimeWarning: invalid value encountered in long_scalars\n",
      "  precision = tp / (tp + fp)\n"
     ]
    }
   ],
   "metadata": {}
  },
  {
   "cell_type": "code",
   "execution_count": 26,
   "source": [
    "columns = ['threshold', 'tp', 'fp', 'fn', 'tn', 'precision', 'recall']\n",
    "df_scores = pd.DataFrame(scores, columns=columns)"
   ],
   "outputs": [],
   "metadata": {}
  },
  {
   "cell_type": "code",
   "execution_count": 27,
   "source": [
    "plt.plot(df_scores.threshold, df_scores['precision'], label='precision', color='darkmagenta')\n",
    "plt.plot(df_scores.threshold, df_scores['recall'], label='recall', color='goldenrod')\n",
    "plt.legend()\n",
    "\n",
    "plt.xlabel('Threshold')\n",
    "plt.ylabel('Values')"
   ],
   "outputs": [
    {
     "output_type": "execute_result",
     "data": {
      "text/plain": [
       "Text(0, 0.5, 'Values')"
      ]
     },
     "metadata": {},
     "execution_count": 27
    },
    {
     "output_type": "display_data",
     "data": {
      "image/png": "[encoded data removed]",
      "text/plain": [
       "<Figure size 432x288 with 1 Axes>"
      ]
     },
     "metadata": {
      "needs_background": "light"
     }
    }
   ],
   "metadata": {}
  },
  {
   "cell_type": "markdown",
   "source": [
    "Question 4\n",
    "\n",
    "Precision and recall are conflicting - when one grows, the other goes down. That's why they are often combined into the F1 score - a metrics that takes into account both\n",
    "\n",
    "This is the formula for computing F1:\n",
    "\n",
    "F1 = 2 * P * R / (P + R)\n",
    "\n",
    "Where P is precision and R is recall.\n",
    "\n",
    "Let's compute F1 for all thresholds from 0.0 to 1.0 with increment 0.01\n",
    "\n",
    "At which threshold F1 is maximal?"
   ],
   "metadata": {}
  },
  {
   "cell_type": "code",
   "execution_count": 28,
   "source": [
    "df_scores['F1'] = (2*df_scores['precision'] * df_scores['recall']) / (df_scores['precision'] + df_scores['recall'])\n",
    "\n",
    "df_scores[df_scores['F1'] == df_scores.F1.max()]"
   ],
   "outputs": [
    {
     "output_type": "execute_result",
     "data": {
      "text/html": [
       "<div>\n",
       "<style scoped>\n",
       "    .dataframe tbody tr th:only-of-type {\n",
       "        vertical-align: middle;\n",
       "    }\n",
       "\n",
       "    .dataframe tbody tr th {\n",
       "        vertical-align: top;\n",
       "    }\n",
       "\n",
       "    .dataframe thead th {\n",
       "        text-align: right;\n",
       "    }\n",
       "</style>\n",
       "<table border=\"1\" class=\"dataframe\">\n",
       "  <thead>\n",
       "    <tr style=\"text-align: right;\">\n",
       "      <th></th>\n",
       "      <th>threshold</th>\n",
       "      <th>tp</th>\n",
       "      <th>fp</th>\n",
       "      <th>fn</th>\n",
       "      <th>tn</th>\n",
       "      <th>precision</th>\n",
       "      <th>recall</th>\n",
       "      <th>F1</th>\n",
       "    </tr>\n",
       "  </thead>\n",
       "  <tbody>\n",
       "    <tr>\n",
       "      <th>30</th>\n",
       "      <td>0.3</td>\n",
       "      <td>187</td>\n",
       "      <td>162</td>\n",
       "      <td>59</td>\n",
       "      <td>483</td>\n",
       "      <td>0.535817</td>\n",
       "      <td>0.760163</td>\n",
       "      <td>0.628571</td>\n",
       "    </tr>\n",
       "  </tbody>\n",
       "</table>\n",
       "</div>"
      ],
      "text/plain": [
       "    threshold   tp   fp  fn   tn  precision    recall        F1\n",
       "30        0.3  187  162  59  483   0.535817  0.760163  0.628571"
      ]
     },
     "metadata": {},
     "execution_count": 28
    }
   ],
   "metadata": {}
  },
  {
   "cell_type": "markdown",
   "source": [
    "Question 5\n",
    "\n",
    "Use the KFold class from Scikit-Learn to evaluate our model on 5 different folds:\n",
    "\n",
    "KFold(n_splits=5, shuffle=True, random_state=1)\n",
    "Iterate over different folds of df_full_train\n",
    "Split the data into train and validation\n",
    "Train the model on train with these parameters: LogisticRegression(solver='liblinear', C=1.0, max_iter=1000)\n",
    "Use AUC to evaluate the model on validation\n",
    "How large is standard devidation of the AUC scores across different folds?"
   ],
   "metadata": {}
  },
  {
   "cell_type": "code",
   "execution_count": 40,
   "source": [
    "def train(df_train, y_train, c=1.0):\n",
    "    dicts = df_train.to_dict(orient='records')\n",
    "    \n",
    "    dv = DictVectorizer(sparse=False)\n",
    "    X_train = dv.fit_transform(dicts)\n",
    "    \n",
    "    model = LogisticRegression(solver='liblinear', C=c, max_iter=1000)\n",
    "    model.fit(X_train, y_train)\n",
    "    \n",
    "    return dv, model"
   ],
   "outputs": [],
   "metadata": {}
  },
  {
   "cell_type": "code",
   "execution_count": 41,
   "source": [
    "def predict(df, dv, model):\n",
    "    dicts = df.to_dict(orient='records')\n",
    "    \n",
    "    X = dv.transform(dicts)    \n",
    "    y_pred = model.predict_proba(X)[:, 1]\n",
    "    \n",
    "    return y_pred"
   ],
   "outputs": [],
   "metadata": {}
  },
  {
   "cell_type": "code",
   "execution_count": 31,
   "source": [
    "from sklearn.model_selection import KFold"
   ],
   "outputs": [],
   "metadata": {}
  },
  {
   "cell_type": "code",
   "execution_count": 42,
   "source": [
    "kfold = KFold(n_splits=5, shuffle=True, random_state=1)"
   ],
   "outputs": [],
   "metadata": {}
  },
  {
   "cell_type": "code",
   "execution_count": 47,
   "source": [
    "scores = []\n",
    "\n",
    "for train_idx, val_idx in kfold.split(df_full_train):\n",
    "    df_train = df_full_train.iloc[train_idx]\n",
    "    df_val = df_full_train.iloc[val_idx]\n",
    "\n",
    "    y_train = df_train.default.values\n",
    "    y_val = df_val.default.values\n",
    "\n",
    "    dv, model = train(df_train[features], y_train)\n",
    "    y_pred = predict(df_val[features], dv, model)\n",
    "\n",
    "    auc = roc_auc_score(y_val, y_pred)\n",
    "    scores.append(auc)\n",
    "\n",
    "print(f'{np.mean(scores):.4f} +- {np.std(scores):.4f}')"
   ],
   "outputs": [
    {
     "output_type": "stream",
     "name": "stdout",
     "text": [
      "0.8142 +- 0.0146\n"
     ]
    }
   ],
   "metadata": {}
  },
  {
   "cell_type": "markdown",
   "source": [
    "Question 6\n",
    "\n",
    "Now let's use 5-Fold cross-validation to find the best parameter C\n",
    "\n",
    "Iterate over the following C values: [0.01, 0.1, 1, 10]\n",
    "Initialize KFold with the same parameters as previously\n",
    "Use these parametes for the model: LogisticRegression(solver='liblinear', C=C, max_iter=1000)\n",
    "Compute the mean score as well as the std (round the mean and std to 3 decimal digits)\n",
    "Which C leads to the best mean score?\n",
    "\n",
    "0.01\n",
    "0.1\n",
    "1\n",
    "10\n",
    "If you have ties, select the score with the lowest std. If you still have ties, select the smallest C"
   ],
   "metadata": {}
  },
  {
   "cell_type": "code",
   "execution_count": 55,
   "source": [
    "n_splits = 5\n",
    "\n",
    "for C in [0.01, 0.1, 1, 10]:\n",
    "    kfold = KFold(n_splits=n_splits, shuffle=True, random_state=1)\n",
    "    scores = []\n",
    "\n",
    "    for train_idx, val_idx in kfold.split(df_full_train):\n",
    "        df_train = df_full_train.iloc[train_idx]\n",
    "        df_val = df_full_train.iloc[val_idx]\n",
    "\n",
    "        y_train = df_train.default.values\n",
    "        y_val = df_val.default.values\n",
    "\n",
    "        dv, model = train(df_train[features], y_train, c=C)\n",
    "        y_pred = predict(df_val[features], dv, model)\n",
    "\n",
    "        auc = roc_auc_score(y_val, y_pred)\n",
    "        scores.append(auc)\n",
    "\n",
    "    print('C=%s %.3f +- %.3f' % (C, np.mean(scores), np.std(scores)))"
   ],
   "outputs": [
    {
     "output_type": "stream",
     "name": "stdout",
     "text": [
      "C=0.01 0.808 +- 0.012\n",
      "C=0.1 0.813 +- 0.014\n",
      "C=1 0.814 +- 0.015\n",
      "C=10 0.814 +- 0.015\n"
     ]
    }
   ],
   "metadata": {}
  }
 ],
 "metadata": {
  "orig_nbformat": 4,
  "language_info": {
   "name": "python",
   "version": "3.8.11",
   "mimetype": "text/x-python",
   "codemirror_mode": {
    "name": "ipython",
    "version": 3
   },
   "pygments_lexer": "ipython3",
   "nbconvert_exporter": "python",
   "file_extension": ".py"
  },
  "kernelspec": {
   "name": "python3",
   "display_name": "Python 3.8.11 64-bit ('ml-zoomcamp': conda)"
  },
  "interpreter": {
   "hash": "8d05a2600b1395329fdf4d31c97ba20cdd260ad88fc71d79bbc3e3c6d85b9db2"
  }
 },
 "nbformat": 4,
 "nbformat_minor": 2
}